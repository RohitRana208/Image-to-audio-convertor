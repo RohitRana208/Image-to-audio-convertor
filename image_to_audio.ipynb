{
  "nbformat": 4,
  "nbformat_minor": 0,
  "metadata": {
    "colab": {
      "provenance": [],
      "authorship_tag": "ABX9TyPtwBkKsK4zXavZSJ0Gpklt",
      "include_colab_link": true
    },
    "kernelspec": {
      "name": "python3",
      "display_name": "Python 3"
    },
    "language_info": {
      "name": "python"
    }
  },
  "cells": [
    {
      "cell_type": "markdown",
      "metadata": {
        "id": "view-in-github",
        "colab_type": "text"
      },
      "source": [
        "<a href=\"https://colab.research.google.com/github/RohitRana208/Image-to-audio-convertor/blob/main/image_to_audio.ipynb\" target=\"_parent\"><img src=\"https://colab.research.google.com/assets/colab-badge.svg\" alt=\"Open In Colab\"/></a>"
      ]
    },
    {
      "cell_type": "code",
      "execution_count": null,
      "metadata": {
        "id": "sV2nB1lP1CDy"
      },
      "outputs": [],
      "source": [
        "!sudo apt install tesseract-ocr\n",
        "!pip install pytesseract\n",
        "!pip install Pillow==9.0.0\n",
        "!pip install gTTS"
      ]
    },
    {
      "cell_type": "code",
      "source": [
        "import pytesseract\n",
        "from PIL import Image\n",
        "import gtts"
      ],
      "metadata": {
        "id": "uhFxdpcc2N8R"
      },
      "execution_count": 2,
      "outputs": []
    },
    {
      "cell_type": "code",
      "source": [
        "img = Image.open('/content/Shri-Ram-Stuti-English.png') #Kindly change or put any other image path here👈👈\n",
        "print(img)"
      ],
      "metadata": {
        "colab": {
          "base_uri": "https://localhost:8080/"
        },
        "id": "B9YQkSlB2ZGL",
        "outputId": "6a8abd70-6726-4714-d93f-6a76a708dba1"
      },
      "execution_count": 3,
      "outputs": [
        {
          "output_type": "stream",
          "name": "stdout",
          "text": [
            "<PIL.JpegImagePlugin.JpegImageFile image mode=RGB size=769x981 at 0x7FAB1651F910>\n"
          ]
        }
      ]
    },
    {
      "cell_type": "code",
      "source": [
        "result = pytesseract.image_to_string(img)\n",
        "print(result)\n",
        "tts = gtts.gTTS(result)\n",
        "tts.save(\"Ram_stuti.mp3\")"
      ],
      "metadata": {
        "colab": {
          "base_uri": "https://localhost:8080/"
        },
        "id": "IIB2cbyl2fYz",
        "outputId": "492e27bb-9602-4bc5-8296-ab604d4d93bc"
      },
      "execution_count": 4,
      "outputs": [
        {
          "output_type": "stream",
          "name": "stdout",
          "text": [
            "+ ShriRamchandra Kripalu Bhajuman\n",
            "\n",
            "Shri Ramchandra Kripalu Bhajuman Haran Bhavbhay Darunam |\n",
            "Nav Kanj Lochan Kanj Mukh Kar Kanj Pad Kanjarunam ||1||\n",
            "\n",
            "Kandarp Aganit Amit Chhavi Nav Neel Neerad Sundram |\n",
            "Patpeet Maanhun Tadit Ruchi Shuchi Nomi Janak Sutavaram ||2]|\n",
            "\n",
            "Bhaju Deenbandhu Dinesh Daanav Daitya Vansh Nikandnam |\n",
            "Raghunand Aanand Kand Koshal Chand Dashrath Nandnam |[3||\n",
            "\n",
            "Shir Mukut Kundal Tilak Chaaru Udaaru Adag Vibhushnam |\n",
            "Aajaanu Bhuj Shar Chaap Dhar Sangraam Jit Khardooshnam ||4||\n",
            "\n",
            "Iti Vadti Tulsidas Shankar Shesh Muni Man Ranjnam |\n",
            "Mam Hriday Kanj Nivas Kuru Kamadi Khaldal Ganjnam |[5||\n",
            "\n",
            "Man Jaahi Raachyo Milhi So Var Sahaj Sundar Saanvaro |\n",
            "Karunaa Nidhaan Sujaan Sheel Sneh Jaanat Raavro ||6||\n",
            "\n",
            "Ehi Bhaanti Gauri Asees Sun Siye Sahit Hiye Harshit Alee |\n",
            "Tulsi Bhavanihi Pooji Puni-Puni Mudit Man Mandir Chalee ||7]|\n",
            "\n",
            " \n",
            "\f\n"
          ]
        }
      ]
    }
  ]
}